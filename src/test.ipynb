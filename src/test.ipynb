{
 "cells": [
  {
   "attachments": {},
   "cell_type": "markdown",
   "metadata": {},
   "source": [
    "# From poll to indexes"
   ]
  },
  {
   "attachments": {},
   "cell_type": "markdown",
   "metadata": {},
   "source": [
    "## Setup"
   ]
  },
  {
   "cell_type": "code",
   "execution_count": 1,
   "metadata": {},
   "outputs": [],
   "source": [
    "from pyspark.sql import SparkSession\n",
    "import pandas as pd\n",
    "import os \n",
    "import sys \n",
    "import json \n",
    "\n",
    "os.environ['PYSPARK_DRIVER_PYTHON_OPTS'] = \"notebook\"\n",
    "os.environ['PYSPARK_DRIVER_PYTHON'] = sys.executable\n",
    "os.environ['PYSPARK_PYTHON'] = sys.executable"
   ]
  },
  {
   "cell_type": "code",
   "execution_count": 2,
   "metadata": {},
   "outputs": [
    {
     "data": {
      "text/html": [
       "\n",
       "            <div>\n",
       "                <p><b>SparkSession - in-memory</b></p>\n",
       "                \n",
       "        <div>\n",
       "            <p><b>SparkContext</b></p>\n",
       "\n",
       "            <p><a href=\"http://host.docker.internal:4040\">Spark UI</a></p>\n",
       "\n",
       "            <dl>\n",
       "              <dt>Version</dt>\n",
       "                <dd><code>v3.4.0</code></dd>\n",
       "              <dt>Master</dt>\n",
       "                <dd><code>local[*]</code></dd>\n",
       "              <dt>AppName</dt>\n",
       "                <dd><code>poll_to_idxs</code></dd>\n",
       "            </dl>\n",
       "        </div>\n",
       "        \n",
       "            </div>\n",
       "        "
      ],
      "text/plain": [
       "<pyspark.sql.session.SparkSession at 0x221519039d0>"
      ]
     },
     "execution_count": 2,
     "metadata": {},
     "output_type": "execute_result"
    }
   ],
   "source": [
    "spark = (\n",
    "    SparkSession\n",
    "        .builder\n",
    "        .appName('poll_to_idxs')\n",
    "        .getOrCreate()\n",
    "    )\n",
    "\n",
    "spark"
   ]
  },
  {
   "attachments": {},
   "cell_type": "markdown",
   "metadata": {},
   "source": [
    "## CSV loading and cleaning"
   ]
  },
  {
   "cell_type": "code",
   "execution_count": 3,
   "metadata": {},
   "outputs": [
    {
     "name": "stdout",
     "output_type": "stream",
     "text": [
      "+-------------------------+-----------------------------------------------------------------------------+-------------------+---------+-----------------------------------------------------+--------------------+-------------------------------+------------------------+------------------------+----------------------------+------------------------------------+------------------+--------------------+---------------------------------+-------------------------------+--------------------------------+---+---+--------------------+--------------------+--------------------+--------------------+--------------------+--------------------+-----------------+----+--------------------+--------------------+--------------------+----+-------------------+--------------------+-------+--------------------+--------------------+---+---+------------------+--------------+---------------+----+--------------+------------+------------+--------------------+------------+----+--------------+-------------+--------------------+-------+----------------+--------------------+---------------+--------------------+-------+--------------------+----------------+--------------------+---------------+--------------------+--------------------+----------------+----------------+----------------+----------------+----------------+----------------+----------------+----------------+-----------+-------+-------+-------+-----------+-----------+-------+-----------+------+-----+-----------------+\n",
      "|Informazioni cronologiche|Ho letto e accettato l'informativa e confermo inoltre di avere più di 18 anni|   Quanti anni hai?|   Genere|Da quante persone è composto il tuo nucleo familiare?|         Occupazione|Quanto è grande la tua azienda?|Da che regione provieni?|Provincia di provenienza|In che regione lavori/studi?|Provincia del luogo di lavoro/studio|        Invalidità|   Tipo di residenza|Numero di persone con cui convivi|Entrate Familiari Mensili Nette|Entrate Personali Mensili Nette |S_1|S_2|                 S_3|                 S_4|                 S_5|                 S_6|                 S_7|                 S_8|              S_9|V_10|                V_11|                V_12|                C_13|C_14|                m_0|                 m_1|    m_2|                 m_3|                 m_4|m_5|m_6|               m_7|           m_8|            m_9|m_10|          m_11|        m_12|        m_13|                m_14|        m_15|m_16|          m_17|         m_18|                m_19|   m_20|             eh1|                 eh2|            eh3|                 eh4|    eh5|                 eh6|             ew1|                 ew2|            ew3|                 ew4|                 ew5|             ww1|             ww2|             ww3|             ww4|             wh1|             wh2|             wh3|             wh4|    wastew1|wastew2|wastew3|wastew4|    wasteh1|    wasteh2|wasteh3|    wasteh4|  ER_1| ER_2|             ER_3|\n",
      "+-------------------------+-----------------------------------------------------------------------------+-------------------+---------+-----------------------------------------------------+--------------------+-------------------------------+------------------------+------------------------+----------------------------+------------------------------------+------------------+--------------------+---------------------------------+-------------------------------+--------------------------------+---+---+--------------------+--------------------+--------------------+--------------------+--------------------+--------------------+-----------------+----+--------------------+--------------------+--------------------+----+-------------------+--------------------+-------+--------------------+--------------------+---+---+------------------+--------------+---------------+----+--------------+------------+------------+--------------------+------------+----+--------------+-------------+--------------------+-------+----------------+--------------------+---------------+--------------------+-------+--------------------+----------------+--------------------+---------------+--------------------+--------------------+----------------+----------------+----------------+----------------+----------------+----------------+----------------+----------------+-----------+-------+-------+-------+-----------+-----------+-------+-----------+------+-----+-----------------+\n",
      "|     2023/06/18 1:13:5...|                                                                           Sì|   Tra 26 e 50 anni|Femminile|                                                    4|       Non impiegato|           Da 51 a 250 impie...|                 Sicilia|                 Messina|                     Sicilia|                             Messina|Nessuna invalidità|Appartamento in c...|                        Tra 4 e 7|               Da 1001 a 2000 €|                   Da 0 a 1000 €|  2|  2|Mi servo esclusiv...|No, li conosco ma...|Sì, raramente acq...|Non uso i sacchet...|Riacquisto i prod...|Riacquisto le cas...| 1 volta all'anno|   2|A volte acquisto ...|Non acquisto vest...|Sono interessato ...|   2|2023-07-05 08:00:00|Automobile (condu...| Diesel|Euro 4 (immatrico...|Tra 4 e 6 volte a...|  5|  3|Tra 11 e 15 minuti|Tra 51 e 75 m²|Tra 76 e 100 m²| 25%|  Tra 31 e 50€|Tra 31 e 50€|Tra 11 e 30€|             Nessuno|Tra 1 e 3 km|   1|   Circa 25 m²|  Circa 25 m²|Nessuna delle seg...|Nessuna|    Meno del 25%|Sistemi di Contro...|BioMassa Pulita|       Meno del 25 %|  3 kWh|Ventilazione Natu...|     Tra 2 e 25%|Sistemi di Contro...|BioMassa Pulita|        Meno del 25%|Utilizzo di prodo...|     In progetto|     In progetto|           1-25%|Nessun Interesse|           1-25%|     In Progetto|Nessun Interesse|Nessun Interesse|In Progetto|  1-50%|  1-50%| 51-75%|In Progetto|In Progetto|  1-50%|In Progetto| 1 - 4|3 - 4|1 evento per anno|\n",
      "|     2023/06/18 2:46:1...|                                                                           Sì|Maggiore di 50 anni|Femminile|                                                    4|Lavoratore presso...|           Da 51 a 250 impie...|                 Sicilia|                 Messina|                     Sicilia|                             Messina|Nessuna invalidità|Appartamento in c...|                        Tra 1 e 3|               Da 1001 a 2000 €|                Da 1001 a 2000 €|  2|  2|Acquisto molti (m...|No, non ne ero a ...|No, non guardo le...|Uso i sacchetti d...|Riacquisto i prod...|Riacquisto le cas...|2  volte all'anno|   2|Sono a conoscenza...|Non acquisto vest...|Non mi interessa ...|   2|2023-07-05 09:00:00|             Nessuno|   null|Euro 0 (immatrico...|Più di 6 volte a ...|  5|  1|  Meno di 5 minuti| Più di 100 m²| Tra 51 e 75 m²| 50%|            0€|          0€|          0€|             Nessuno|Meno di 1 km|   5| Più di 100 m²|  Circa 25 m²|Presenta un passa...|      2|Superiore al 75%|Sistemi di Contro...|           null|Non possiedo ness...|  3 kWh|Ventilazione Natu...|Superiore al 75%|Sistemi di Contro...|         Solare|         Più del 75%|Luce solare naturale|Nessun Interesse|Nessun Interesse|          26-50%|Nessun Interesse|Nessun Interesse|Nessun Interesse|Nessun Interesse|Nessun Interesse|         No|76-100%|76-100%|76-100%|    76-100%|    76-100%|76-100%|    76-100%| 1 - 4|1 - 2|3 eventi per anno|\n",
      "|     2023/06/18 3:09:2...|                                                                           Sì|   Tra 26 e 50 anni| Maschile|                                                    3|Lavoratore presso...|           Da 1 a 10 impiega...|                 Sicilia|                 Messina|                     Sicilia|                             Messina|Nessuna invalidità|Appartamento in c...|                        Tra 1 e 3|               Da 1001 a 2000 €|                Da 1001 a 2000 €|  1|  2|Acquisto spesso (...|No, non ne ero a ...|Sì, raramente acq...|Non uso i sacchet...|Riacquisto i prod...|Riacquisto le cas...|                0|   1|Non ero a conosce...|Non acquisto vest...|Non mi interessa ...|   3|2023-07-05 09:00:00|             Nessuno| Diesel|Euro 5 (immatrico...|Più di 6 volte a ...|  1|  1|  Meno di 5 minuti| Più di 100 m²|    Circa 25 m²| 25%|  Tra 31 e 50€|          0€|          0€|               Treno|Meno di 1 km|   5|Tra 51 e 75 m²|  Circa 25 m²|Nessuna delle seg...|Nessuna|    Meno del 25%|                null|           null|Non possiedo ness...|4.5 kWh|Ventilazione Natu...|     Tra 2 e 25%|Sistemi di Contro...|           null|Non possiedo ness...|Ventilazione Natu...|Nessun Interesse|Nessun Interesse|Nessun Interesse|Nessun Interesse|     In Progetto|Nessun Interesse|     In Progetto|Nessun Interesse|      1-50%|  1-50%|  1-50%|  1-50%|      1-50%|      1-50%|  1-50%|      1-50%|     0|    0|          Nessuna|\n",
      "|     2023/06/18 4:17:3...|                                                                           Sì|   Tra 18 e 25 anni|Femminile|                                                    4| Studente Lavoratore|           Da 1001 a 10000 i...|                 Sicilia|                 Messina|                     Sicilia|                             Messina|Nessuna invalidità|                Casa|                                0|               Da 1001 a 2000 €|                   Da 0 a 1000 €|  2|  1|Mi servo esclusiv...|No, non ne ero a ...|Sì, raramente acq...|Non uso i sacchet...|Riacquisto i prod...|Riacquisto le cas...|2  volte all'anno|   2|Acquisto vestiti ...|Non acquisto vest...|Non mi interessa ...|   3|2023-07-05 06:00:00|Automobile (condu...| Diesel|Euro 6 (immatrico...|Tra 4 e 6 volte a...|  5|  3| Tra 5 e 10 minuti|Tra 51 e 75 m²|  Più di 100 m²|100%|  Tra 31 e 50€|          0€| Più di 100€|Monopattino elett...|Più di 30 km|   1| Più di 100 m²|Più di 100 m²|Nessuna delle seg...|      2|Superiore al 75%|Sistemi di Contro...|           null|Non possiedo ness...|  3 kWh|Ventilazione Natu...|Superiore al 75%|Sistemi di Contro...|         Solare|         Più del 75%|Luce solare naturale|Nessun Interesse|Nessun Interesse|Nessun Interesse|Nessun Interesse|Nessun Interesse|Nessun Interesse|Nessun Interesse|Nessun Interesse|    76-100%|76-100%|76-100%|76-100%|    76-100%|    76-100%|76-100%|    76-100%|5 - 17|1 - 2|2 eventi per anno|\n",
      "|     2023/06/18 4:46:2...|                                                                           Sì|   Tra 26 e 50 anni|Femminile|                                                    4|       Non impiegato|           Da 1001 a 10000 i...|                 Sicilia|                 Messina|                     Sicilia|                             Messina|Nessuna invalidità|                Casa|                        Tra 1 e 3|                  Più di 5000 €|                Da 3001 a 5000 €|  3|  2|Vorrei servirmi d...|No, non ne ero a ...|Sì, ma hanno un p...|Uso i sacchetti d...|Riacquisto i prod...|Riacquisto le cas...| 1 volta all'anno|   1|Acquisto vestiti ...|Non acquisto vest...|Non mi interessa ...|   2|2023-07-05 08:30:00|Automobile (condu...|Gasolio|Euro 6 (immatrico...|Tra 1 e 3 volte a...|  2|  2| Tra 5 e 10 minuti| Più di 100 m²| Tra 25 e 50 m²| 25%|Tra 101 e 150€|          0€|          0€|             Nessuno|Più di 30 km|   1|   Circa 25 m²|  Circa 25 m²|Presenta un passa...|Nessuna|Superiore al 75%|                null|           null|Non possiedo ness...|  3 kWh|Ventilazione Natu...|    Meno dell'1%|                null|           null|Non possiedo ness...|Ventilazione Natu...|Nessun Interesse|Nessun Interesse|Nessun Interesse|Nessun Interesse|Nessun Interesse|Nessun Interesse|Nessun Interesse|Nessun Interesse|         No|     No|     No|     No|      1-50%|In Progetto|  1-50%|      1-50%|     0|    0|          Nessuna|\n",
      "+-------------------------+-----------------------------------------------------------------------------+-------------------+---------+-----------------------------------------------------+--------------------+-------------------------------+------------------------+------------------------+----------------------------+------------------------------------+------------------+--------------------+---------------------------------+-------------------------------+--------------------------------+---+---+--------------------+--------------------+--------------------+--------------------+--------------------+--------------------+-----------------+----+--------------------+--------------------+--------------------+----+-------------------+--------------------+-------+--------------------+--------------------+---+---+------------------+--------------+---------------+----+--------------+------------+------------+--------------------+------------+----+--------------+-------------+--------------------+-------+----------------+--------------------+---------------+--------------------+-------+--------------------+----------------+--------------------+---------------+--------------------+--------------------+----------------+----------------+----------------+----------------+----------------+----------------+----------------+----------------+-----------+-------+-------+-------+-----------+-----------+-------+-----------+------+-----+-----------------+\n",
      "only showing top 5 rows\n",
      "\n"
     ]
    }
   ],
   "source": [
    "# the csv poll dir\n",
    "poll_dir = \"../data/poll_data.csv\"\n",
    "\n",
    "# load the csv poll as a dataframe\n",
    "df = (\n",
    "    spark.read.format(\"csv\")\n",
    "    # .option(\"encoding\", \"UTF-8\")\n",
    "    .option(\"header\", \"true\")\n",
    "    .option(\"inferSchema\", \"true\")\n",
    "    .load(poll_dir)\n",
    ")\n",
    "\n",
    "# list of columns that will not be considered individually scored\n",
    "skip_cols = [\n",
    "    \"Ho letto e accettato l'informativa e confermo inoltre di avere più di 18 anni\",\n",
    "    \"Informazioni cronologiche\",\n",
    "    \"Quanti anni hai?\",\n",
    "    \"Genere\",\n",
    "    \"Da quante persone è composto il tuo nucleo familiare?\",\n",
    "    \"Occupazione\",\n",
    "    \"Quanto è grande la tua azienda?\",\n",
    "    \"Da che regione provieni?\",\n",
    "    \"Provincia di provenienza\",\n",
    "    \"In che regione lavori/studi?\",\n",
    "    \"Provincia del luogo di lavoro/studio\",\n",
    "    \"Invalidità\",\n",
    "    \"Tipo di residenza\",\n",
    "    \"Numero di persone con cui convivi\",\n",
    "    \"Entrate Familiari Mensili Nette\",\n",
    "    \"Entrate Personali Mensili Nette \",\n",
    "]\n",
    "\n",
    "# load the questions json\n",
    "with open(\"../data/questions.json\", \"r\", encoding=\"utf-8\") as questions_file:\n",
    "    questions = json.load(questions_file)\n",
    "\n",
    "# create a question_text:question_idx map, useful to alias the columns\n",
    "questions_idxs = {questions[q][\"question_text\"]: q for q in questions.keys()}\n",
    "\n",
    "# alias the columns (long column names cause bugs and are hard to use)\n",
    "for k, v in questions_idxs.items():\n",
    "    df = df.withColumnRenamed(k, v)\n",
    "\n",
    "df.show(5)"
   ]
  },
  {
   "attachments": {},
   "cell_type": "markdown",
   "metadata": {},
   "source": [
    "## Computing the scores"
   ]
  },
  {
   "cell_type": "code",
   "execution_count": 4,
   "metadata": {},
   "outputs": [],
   "source": [
    "# \"subtract\" the list of unscorable cols from the list of scorable cols\n",
    "scorable_cols = [item for item in df.columns if item not in skip_cols]\n",
    "\n",
    "# iterate over the scorable columns to create the scores dictionary\n",
    "scores = {}\n",
    "for col in scorable_cols:\n",
    "    # shortcuts for some useful values\n",
    "    question_type = questions[col][\"question_type\"]\n",
    "    question_score = questions[col][\"question_score\"]\n",
    "    question_answers = questions[col][\"answers\"]\n",
    "\n",
    "    # skip unscored questions\n",
    "    if len(question_answers) == 0:\n",
    "        continue\n",
    "\n",
    "    # collect the Row values for the current column and access its value (index 0)\n",
    "    answers = [str(d[0]) for d in df.select(col).collect()]\n",
    "\n",
    "    # handle score computation differently based on question_type\n",
    "    row_scores = []\n",
    "    if question_type in [\"basic\", \"multivalue\"]:\n",
    "        for a in answers:\n",
    "            row_scores.append(question_answers[a][\"answer_score\"] * question_score)\n",
    "\n",
    "        scores[col] = row_scores\n",
    "\n",
    "    elif question_type == \"comma_separated\":\n",
    "        # * Done\n",
    "        scores[col] = question_answers.split(\";\")\n",
    "        # Deprecated code below\n",
    "        # scores[col] = [0 for i in range(52)]"
   ]
  },
  {
   "cell_type": "code",
   "execution_count": 5,
   "metadata": {},
   "outputs": [
    {
     "name": "stdout",
     "output_type": "stream",
     "text": [
      "+----+----+-----+----+----+-----+----+----+-----+----+-----+-----+----+-----+---+---+-----+-----+-----+---+---+-----+-----+----+-----+-----+----+----+----+-----+-----+-----+-----+----+---+---+---+---+---+---+---+---+---+---+---+---+---+-------+-------+-------+-------+-------+-------+-------+-------+-----+-----+----+\n",
      "| S_1| S_2|  S_3| S_4| S_5|  S_6| S_7| S_8|  S_9|V_10| V_11| V_12|C_13| C_14|m_1|m_2|  m_3|  m_4|  m_5|m_6|m_7|  m_8|  m_9|m_10| m_11| m_12|m_13|m_14|m_15| m_16| m_17| m_18| m_19|m_20|eh1|eh4|eh5|ew1|ew4|ww1|ww2|ww3|ww4|wh1|wh2|wh3|wh4|wastew1|wastew2|wastew3|wastew4|wasteh1|wasteh2|wasteh3|wasteh4| ER_1| ER_2|ER_3|\n",
      "+----+----+-----+----+----+-----+----+----+-----+----+-----+-----+----+-----+---+---+-----+-----+-----+---+---+-----+-----+----+-----+-----+----+----+----+-----+-----+-----+-----+----+---+---+---+---+---+---+---+---+---+---+---+---+---+-------+-------+-------+-------+-------+-------+-------+-------+-----+-----+----+\n",
      "|37.5|37.5|  0.0|49.5|99.0|150.0|99.0|99.0| 50.0|37.5|150.0|100.0|49.5| 50.0|  0|  0| 75.0|187.5|250.0|  0|  0| 75.0|100.0|   0|100.0|100.0| 0.0|   0|   0|  0.0| 25.0| 25.0|  0.0| 0.0|0.0|0.0|0.0|0.0|0.0|0.0|0.0|0.0|0.0|0.0|0.0|0.0|0.0|    0.0|    0.0|    0.0|    0.0|    0.0|    0.0|    0.0|    0.0| 50.0|100.0|25.0|\n",
      "|37.5|37.5|200.0| 0.0| 0.0| 99.0|49.5|49.5|100.0|37.5|100.0| 50.0| 0.0| 50.0|  0|  0|  0.0|250.0|250.0|  0|  0|125.0| 75.0|   0| 10.0| 10.0| 0.0|   0|   0|300.0|125.0| 25.0|100.0|50.0|0.0|0.0|0.0|0.0|0.0|0.0|0.0|0.0|0.0|0.0|0.0|0.0|0.0|    0.0|    0.0|    0.0|    0.0|    0.0|    0.0|    0.0|    0.0| 50.0| 50.0|75.0|\n",
      "| 0.0|37.5|150.0| 0.0|99.0|150.0|49.5|49.5|  0.0| 0.0| 50.0| 50.0| 0.0|100.0|  0|  0|225.0|250.0| 25.0|  0|  0|125.0| 25.0|   0|100.0| 10.0| 0.0|   0|   0|300.0| 75.0| 25.0|  0.0| 0.0|0.0|0.0|0.0|0.0|0.0|0.0|0.0|0.0|0.0|0.0|0.0|0.0|0.0|    0.0|    0.0|    0.0|    0.0|    0.0|    0.0|    0.0|    0.0|  0.0|  0.0| 0.0|\n",
      "|37.5| 0.0|  0.0| 0.0|99.0|150.0|49.5|49.5|100.0|37.5|  0.0| 50.0| 0.0|100.0|  0|  0|300.0|187.5|250.0|  0|  0| 75.0|125.0|   0|100.0| 10.0| 0.0|   0|   0|  0.0|125.0|125.0|  0.0|50.0|0.0|0.0|0.0|0.0|0.0|0.0|0.0|0.0|0.0|0.0|0.0|0.0|0.0|    0.0|    0.0|    0.0|    0.0|    0.0|    0.0|    0.0|    0.0|100.0| 50.0|50.0|\n",
      "|75.0|37.5| 50.0| 0.0|49.5| 99.0|49.5|49.5| 50.0| 0.0|  0.0|  0.0| 0.0| 50.0|  0|  0|300.0|125.0| 62.5|  0|  0|125.0| 50.0|   0|300.0| 10.0| 0.0|   0|   0|  0.0| 25.0| 25.0| 25.0| 0.0|0.0|0.0|0.0|0.0|0.0|0.0|0.0|0.0|0.0|0.0|0.0|0.0|0.0|    0.0|    0.0|    0.0|    0.0|    0.0|    0.0|    0.0|    0.0|  0.0|  0.0| 0.0|\n",
      "+----+----+-----+----+----+-----+----+----+-----+----+-----+-----+----+-----+---+---+-----+-----+-----+---+---+-----+-----+----+-----+-----+----+----+----+-----+-----+-----+-----+----+---+---+---+---+---+---+---+---+---+---+---+---+---+-------+-------+-------+-------+-------+-------+-------+-------+-----+-----+----+\n",
      "only showing top 5 rows\n",
      "\n"
     ]
    }
   ],
   "source": [
    "# create the scores dataframe from the scores dictionary\n",
    "df_scores = spark.createDataFrame(pd.DataFrame(scores))\n",
    "df_scores.show(5)"
   ]
  },
  {
   "cell_type": "code",
   "execution_count": 6,
   "metadata": {},
   "outputs": [],
   "source": [
    "# the indexes dictionary, which will be used to compute the indexes dataframe\n",
    "indexes_cols = {}"
   ]
  },
  {
   "attachments": {},
   "cell_type": "markdown",
   "metadata": {},
   "source": [
    "## Computing the indexes"
   ]
  },
  {
   "attachments": {},
   "cell_type": "markdown",
   "metadata": {},
   "source": [
    "### Purchases indexes"
   ]
  },
  {
   "cell_type": "code",
   "execution_count": 7,
   "metadata": {},
   "outputs": [],
   "source": [
    "df_s = df_scores.select([f\"S_{d}\" for d in range(1, 10)]).collect()\n",
    "\n",
    "i_S_col = []\n",
    "for s in df_s:\n",
    "    i_S_col.append(sum([val for val in s])/1450)\n",
    "\n",
    "indexes_cols['i_S'] = i_S_col"
   ]
  },
  {
   "attachments": {},
   "cell_type": "markdown",
   "metadata": {},
   "source": [
    "### Mobility indexes"
   ]
  },
  {
   "cell_type": "code",
   "execution_count": 8,
   "metadata": {},
   "outputs": [],
   "source": [
    "df_m1 = df_scores.select([\"m_8\", \"m_9\"]).collect()\n",
    "\n",
    "i_m1_col = []\n",
    "for s in df_m1:\n",
    "    m_8, m_9 = s[0], s[1]\n",
    "    i_m1_col.append(m_9/m_8)\n",
    "\n",
    "indexes_cols['i_M1'] = i_m1_col"
   ]
  },
  {
   "cell_type": "code",
   "execution_count": 9,
   "metadata": {},
   "outputs": [],
   "source": [
    "df_m2 = df_scores.select([\"m_17\", \"m_18\"]).collect()\n",
    "\n",
    "i_m2_col = []\n",
    "for s in df_m2:\n",
    "    m_17, m_18 = s[0], s[1]\n",
    "    i_m2_col.append(m_18/m_17)\n",
    "\n",
    "indexes_cols['i_M2'] = i_m2_col"
   ]
  },
  {
   "cell_type": "code",
   "execution_count": 10,
   "metadata": {},
   "outputs": [],
   "source": [
    "fam_size_col_label = \"Da quante persone è composto il tuo nucleo familiare?\"\n",
    "\n",
    "df_m3 = df_scores.select([\"m_8\"]).collect()\n",
    "df_fam = df.select([fam_size_col_label]).collect()\n",
    "\n",
    "i_m3_col = []\n",
    "for s in df_m3:\n",
    "    m_8, f = s[0], int(df_fam[0][0])\n",
    "    i_m3_col.append(m_8 / f)\n",
    "\n",
    "indexes_cols[\"i_M3\"] = i_m3_col"
   ]
  },
  {
   "cell_type": "code",
   "execution_count": 11,
   "metadata": {},
   "outputs": [],
   "source": [
    "df_m4 = df_scores.select([\"m_11\", \"m_12\", \"m_13\"]).collect()\n",
    "\n",
    "i_m4_col = []\n",
    "for s in df_m4:\n",
    "    m_11, m_12, m_13 = s[0], s[1], s[2]\n",
    "    i_m4_col.append(m_12 / m_11 + m_12 + m_13)\n",
    "\n",
    "indexes_cols[\"i_M4\"] = i_m4_col"
   ]
  },
  {
   "cell_type": "code",
   "execution_count": 12,
   "metadata": {},
   "outputs": [],
   "source": [
    "df_m5 = df_scores.select([\"m_20\"]).collect()\n",
    "\n",
    "i_m5_col = []\n",
    "for s in df_m5:\n",
    "    m_20 = s[0]\n",
    "    i_m5_col.append(m_20)\n",
    "\n",
    "indexes_cols[\"i_M5\"] = i_m5_col"
   ]
  },
  {
   "cell_type": "code",
   "execution_count": 17,
   "metadata": {},
   "outputs": [],
   "source": [
    "df_m6 = df_scores.select([\"m_19\"]).collect()\n",
    "\n",
    "i_m6_col = []\n",
    "for s in df_m6:\n",
    "    m_19 = s[0]\n",
    "    i_m6_col.append(m_19)\n",
    "\n",
    "indexes_cols[\"i_M6\"] = i_m6_col"
   ]
  },
  {
   "cell_type": "code",
   "execution_count": 14,
   "metadata": {},
   "outputs": [],
   "source": [
    "df_m7 = df_scores.select([\"m_4\", \"m_5\"]).collect()\n",
    "\n",
    "i_m7_col = []\n",
    "for s in df_m7:\n",
    "    m_4, m_5 = s[0], s[1]\n",
    "    i_m7_col.append(m_5 / m_4)\n",
    "\n",
    "indexes_cols[\"i_M7\"] = i_m7_col"
   ]
  },
  {
   "attachments": {},
   "cell_type": "markdown",
   "metadata": {},
   "source": [
    "### Energy indexes"
   ]
  },
  {
   "cell_type": "code",
   "execution_count": null,
   "metadata": {},
   "outputs": [],
   "source": [
    "# Systems (home)\n",
    "df_e1 = df_scores.select([\"eh2\"]).collect()\n",
    "i_e1_col = []\n",
    "for s in df_e1:\n",
    "    i_e1_col.append(s/5)\n",
    "indexes_cols[\"i_e1\"] = i_e1_col"
   ]
  },
  {
   "cell_type": "code",
   "execution_count": null,
   "metadata": {},
   "outputs": [],
   "source": [
    "# Systems (work)\n",
    "df_e2= df_scores.select([\"ew2\"]).collect()\n",
    "i_e2_col = []\n",
    "for s in df_e2:\n",
    "    i_e2_col.append(s/5)\n",
    "indexes_cols[\"i_e2\"] = i_e2_col"
   ]
  },
  {
   "cell_type": "code",
   "execution_count": null,
   "metadata": {},
   "outputs": [],
   "source": [
    "# Sustainable Source (home)\n",
    "df_e3 = df_scores.select([\"eh3\",\"eh4\"]).collect()\n",
    "i_e3_col = []\n",
    "for s in df_e3:\n",
    "    eh3, eh4 = s[0], s[1]\n",
    "    i_e3_col.append(eh3 *eh4)\n",
    "indexes_cols[\"i_e3\"] = i_e3_col\n"
   ]
  },
  {
   "cell_type": "code",
   "execution_count": null,
   "metadata": {},
   "outputs": [],
   "source": [
    "# Sustainable Source (work)\n",
    "df_e4 = df_scores.select([\"ew3\",\"ew4\"]).collect()\n",
    "i_e4_col = []\n",
    "for s in df_e4:\n",
    "    ew3, ew4 = s[0], s[1]\n",
    "    i_e4_col.append(ew3* ew4)\n",
    "indexes_cols[\"i_e4\"] = i_e4_col"
   ]
  },
  {
   "cell_type": "code",
   "execution_count": null,
   "metadata": {},
   "outputs": [],
   "source": [
    "# Efficiency Ratio\n",
    "df_e5 = df_scores.select([\"eh1\", \"eh5\"]).collect()\n",
    "i_e5_col = []\n",
    "for s in df_e5:\n",
    "    eh1, eh5 = s[0], s[1]\n",
    "    i_e5_col.append(eh1/eh5)\n",
    "indexes_cols[\"i_e5\"] = i_e5_col"
   ]
  },
  {
   "cell_type": "code",
   "execution_count": null,
   "metadata": {},
   "outputs": [],
   "source": [
    "# GreenBuilding (home)\n",
    "df_e6 = df_scores.select([\"eh6\"]).collect()\n",
    "i_e6_col = []\n",
    "for s in df_e6:\n",
    "    i_e6_col.append(s/6)\n",
    "indexes_cols[\"i_e6\"] = i_e6_col"
   ]
  },
  {
   "cell_type": "code",
   "execution_count": null,
   "metadata": {},
   "outputs": [],
   "source": [
    "# GreenBuilding (work)\n",
    "df_e7 = df_scores.select([\"ew5\"]).collect()\n",
    "i_e7_col = []\n",
    "for s in df_e7:\n",
    "    i_e7_col.append(s/6)\n",
    "indexes_cols[\"i_e7\"] = i_e7_col"
   ]
  },
  {
   "attachments": {},
   "cell_type": "markdown",
   "metadata": {},
   "source": [
    "### Water Index"
   ]
  },
  {
   "cell_type": "code",
   "execution_count": null,
   "metadata": {},
   "outputs": [],
   "source": [
    "# Water (home)\n",
    "df_water1 = df_scores.select([\"wh1\",\"wh2\",\"wh3\", \"wh4\"]).collect()\n",
    "i_e8_col = []\n",
    "for s in df_water1:\n",
    "    wh1, wh2, wh3, wh4 = s[0], s[1], s[2],s[3]\n",
    "    i_e8_col.append((wh1+ wh2+ wh3+ wh4)/4)\n",
    "indexes_cols[\"i_e8\"] = i_e8_col"
   ]
  },
  {
   "cell_type": "code",
   "execution_count": null,
   "metadata": {},
   "outputs": [],
   "source": [
    "# Water (work)\n",
    "df_water2 = df_scores.select([\"ww1\",\"ww2\",\"ww3\", \"ww4\"]).collect()\n",
    "i_e9_col = []\n",
    "for s in df_water2:\n",
    "    ww1, ww2, ww3, ww4 = s[0], s[1], s[2],s[3]\n",
    "    i_e9_col.append((ww1+ ww2+ ww3+ ww4)/4)\n",
    "indexes_cols[\"i_e9\"] = i_e9_col"
   ]
  },
  {
   "attachments": {},
   "cell_type": "markdown",
   "metadata": {},
   "source": [
    "### Waste Index"
   ]
  },
  {
   "cell_type": "code",
   "execution_count": null,
   "metadata": {},
   "outputs": [],
   "source": [
    "# Waste (home)\n",
    "df_waste1 = df_scores.select([\"wasteh1\", \"wasteh2\", \"wasteh3\", \"wasteh4\"]).collect()\n",
    "i_e10_col = []\n",
    "for s in df_waste1:\n",
    "    wasteh1, wasteh2, wasteh3, wasteh4 = s[0], s[1],s[2],s[3]\n",
    "    i_e10_col.append((wasteh1 + wasteh2 + wasteh3 + wasteh4)/4)\n",
    "indexes_cols[\"i_e10\"] = i_e10_col"
   ]
  },
  {
   "cell_type": "code",
   "execution_count": null,
   "metadata": {},
   "outputs": [],
   "source": [
    "# Waste (work)\n",
    "df_waste2 = df_scores.select([\"wastew1\", \"wastew2\", \"wastew3\", \"wastew4\"]).collect()\n",
    "i_e11_col = []\n",
    "for s in df_waste1:\n",
    "    wastew1, wastew2, wastew3, wastew4 = s[0], s[1],s[2],s[3]\n",
    "    i_e11_col.append((wastew1 + wastew2 + wastew3 + wastew4)/4)\n",
    "indexes_cols[\"i_e11\"] = i_e11_col"
   ]
  },
  {
   "attachments": {},
   "cell_type": "markdown",
   "metadata": {},
   "source": [
    "## Indexes dataframe"
   ]
  },
  {
   "cell_type": "code",
   "execution_count": 18,
   "metadata": {},
   "outputs": [
    {
     "name": "stdout",
     "output_type": "stream",
     "text": [
      "+-------------------+------------------+------------------+-----+------------------+----+-----+------------------+\n",
      "|                i_S|              i_M1|              i_M2| i_M3|              i_M4|i_M5| i_M6|              i_M7|\n",
      "+-------------------+------------------+------------------+-----+------------------+----+-----+------------------+\n",
      "| 0.4286206896551724|1.3333333333333333|               1.0|18.75|             101.0| 0.0|  0.0|1.3333333333333333|\n",
      "|0.39517241379310347|               0.6|               0.2|31.25|              11.0|50.0|100.0|               1.0|\n",
      "|0.36931034482758623|               0.2|0.3333333333333333|31.25|              10.1| 0.0|  0.0|               0.1|\n",
      "|0.33482758620689657|1.6666666666666667|               1.0|18.75|              10.1|50.0|  0.0|1.3333333333333333|\n",
      "|0.31724137931034485|               0.4|               1.0|31.25|10.033333333333333| 0.0| 25.0|               0.5|\n",
      "|0.38517241379310346|               0.2|               0.2|31.25|             10.05| 0.0|  0.0|               1.0|\n",
      "|  0.593103448275862|               0.2|               0.2|31.25|             10.05| 0.0| 25.0|               1.0|\n",
      "| 0.2751724137931034|0.3333333333333333|0.3333333333333333|18.75|             10.05| 0.0|  0.0|               2.0|\n",
      "|0.45586206896551723|               0.2|               0.2|31.25|              10.1| 0.0|  0.0|              0.75|\n",
      "|0.40344827586206894|               0.2|               0.5|31.25|              10.1| 0.0|  0.0|              0.75|\n",
      "|0.38655172413793104|               0.8|               0.2|31.25|              10.1| 0.0| 75.0|               0.5|\n",
      "| 0.3182758620689655|               0.2|0.3333333333333333|31.25|10.033333333333333| 0.0|  0.0|               1.0|\n",
      "| 0.5244827586206896|               0.2|               0.5|31.25|10.033333333333333|25.0|  0.0|               1.0|\n",
      "|0.45586206896551723|               0.4|               0.5|31.25|              20.1| 0.0|  0.0|               1.0|\n",
      "|0.17172413793103447|              0.25|               0.2| 25.0|              10.1| 0.0|  0.0|               1.0|\n",
      "| 0.3179310344827586|               0.2|               0.5|31.25|              10.1| 0.0| 25.0|               0.5|\n",
      "| 0.6186206896551724|              0.25|               1.0| 25.0|10.028571428571428| 0.0| 25.0|               1.0|\n",
      "| 0.4886206896551724|              1.25|               0.4| 25.0|             10.05| 0.0| 25.0|               1.0|\n",
      "|0.33379310344827584|               0.4|0.6666666666666666|31.25|              20.2|25.0|  0.0|               0.5|\n",
      "| 0.3782758620689655|               0.2|               0.5|31.25|10.033333333333333| 0.0|  0.0|               1.0|\n",
      "+-------------------+------------------+------------------+-----+------------------+----+-----+------------------+\n",
      "only showing top 20 rows\n",
      "\n"
     ]
    }
   ],
   "source": [
    "# create the indexes dataframe from the indexes dictionary\n",
    "df_indexes = spark.createDataFrame(pd.DataFrame(indexes_cols))\n",
    "df_indexes.show()"
   ]
  }
 ],
 "metadata": {
  "kernelspec": {
   "display_name": "Python 3",
   "language": "python",
   "name": "python3"
  },
  "language_info": {
   "codemirror_mode": {
    "name": "ipython",
    "version": 3
   },
   "file_extension": ".py",
   "mimetype": "text/x-python",
   "name": "python",
   "nbconvert_exporter": "python",
   "pygments_lexer": "ipython3",
   "version": "3.10.6"
  },
  "orig_nbformat": 4
 },
 "nbformat": 4,
 "nbformat_minor": 2
}
