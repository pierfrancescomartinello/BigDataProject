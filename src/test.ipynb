{
 "cells": [
  {
   "cell_type": "code",
   "execution_count": 1,
   "metadata": {},
   "outputs": [],
   "source": [
    "from pyspark.sql import SparkSession\n",
    "import pandas as pd\n",
    "import os \n",
    "import sys \n",
    "import json \n",
    "\n",
    "os.environ['PYSPARK_DRIVER_PYTHON_OPTS'] = \"notebook\"\n",
    "os.environ['PYSPARK_DRIVER_PYTHON'] = sys.executable\n",
    "os.environ['PYSPARK_PYTHON'] = sys.executable"
   ]
  },
  {
   "cell_type": "code",
   "execution_count": 2,
   "metadata": {},
   "outputs": [
    {
     "data": {
      "text/html": [
       "\n",
       "            <div>\n",
       "                <p><b>SparkSession - in-memory</b></p>\n",
       "                \n",
       "        <div>\n",
       "            <p><b>SparkContext</b></p>\n",
       "\n",
       "            <p><a href=\"http://host.docker.internal:4040\">Spark UI</a></p>\n",
       "\n",
       "            <dl>\n",
       "              <dt>Version</dt>\n",
       "                <dd><code>v3.4.0</code></dd>\n",
       "              <dt>Master</dt>\n",
       "                <dd><code>local[*]</code></dd>\n",
       "              <dt>AppName</dt>\n",
       "                <dd><code>test</code></dd>\n",
       "            </dl>\n",
       "        </div>\n",
       "        \n",
       "            </div>\n",
       "        "
      ],
      "text/plain": [
       "<pyspark.sql.session.SparkSession at 0x1def35cd0c0>"
      ]
     },
     "execution_count": 2,
     "metadata": {},
     "output_type": "execute_result"
    }
   ],
   "source": [
    "spark = (\n",
    "    SparkSession\n",
    "        .builder\n",
    "        .appName('poll_to_idxs')\n",
    "        .getOrCreate()\n",
    "    )\n",
    "\n",
    "spark"
   ]
  },
  {
   "cell_type": "code",
   "execution_count": 3,
   "metadata": {},
   "outputs": [
    {
     "name": "stdout",
     "output_type": "stream",
     "text": [
      "+---+---+--------------------+--------------------+--------------------+--------------------+--------------------+--------------------+-----------------+----+--------------------+--------------------+--------------------+----+-------------------+--------------------+-------+--------------------+--------------------+---+---+------------------+--------------+---------------+----+--------------+------------+------------+--------------------+------------+----+--------------+-------------+--------------------+-------+----------------+--------------------+---------------+--------------------+-------+--------------------+----------------+--------------------+---------------+--------------------+--------------------+----------------+----------------+----------------+----------------+----------------+----------------+----------------+----------------+-----------+-------+-------+-------+-----------+-----------+-------+-----------+------+-----+-----------------+\n",
      "|S_1|S_2|                 S_3|                 S_4|                 S_5|                 S_6|                 S_7|                 S_8|              S_9|V_10|                V_11|                V_12|                C_13|C_14|                m_0|                 m_1|    m_2|                 m_3|                 m_4|m_5|m_6|               m_7|           m_8|            m_9|m_10|          m_11|        m_12|        m_13|                m_14|        m_15|m_16|          m_17|         m_18|                m_19|   m_20|             eh1|                 eh2|            eh3|                 eh4|    eh5|                 eh6|             ew1|                 ew2|            ew3|                 ew4|                 ew5|             ww1|             ww2|             ww3|             ww4|             wh1|             wh2|             wh3|             wh4|    wastew1|wastew2|wastew3|wastew4|    wasteh1|    wasteh2|wasteh3|    wasteh4|  ER_1| ER_2|             ER_3|\n",
      "+---+---+--------------------+--------------------+--------------------+--------------------+--------------------+--------------------+-----------------+----+--------------------+--------------------+--------------------+----+-------------------+--------------------+-------+--------------------+--------------------+---+---+------------------+--------------+---------------+----+--------------+------------+------------+--------------------+------------+----+--------------+-------------+--------------------+-------+----------------+--------------------+---------------+--------------------+-------+--------------------+----------------+--------------------+---------------+--------------------+--------------------+----------------+----------------+----------------+----------------+----------------+----------------+----------------+----------------+-----------+-------+-------+-------+-----------+-----------+-------+-----------+------+-----+-----------------+\n",
      "|  2|  2|Mi servo esclusiv...|No, li conosco ma...|Sì, raramente acq...|Non uso i sacchet...|Riacquisto i prod...|Riacquisto le cas...| 1 volta all'anno|   2|A volte acquisto ...|Non acquisto vest...|Sono interessato ...|   2|2023-07-05 08:00:00|Automobile (condu...| Diesel|Euro 4 (immatrico...|Tra 4 e 6 volte a...|  5|  3|Tra 11 e 15 minuti|Tra 51 e 75 m²|Tra 76 e 100 m²| 25%|  Tra 31 e 50€|Tra 31 e 50€|Tra 11 e 30€|             Nessuno|Tra 1 e 3 km|   1|   Circa 25 m²|  Circa 25 m²|Nessuna delle seg...|Nessuna|    Meno del 25%|Sistemi di Contro...|BioMassa Pulita|       Meno del 25 %|  3 kWh|Ventilazione Natu...|     Tra 2 e 25%|Sistemi di Contro...|BioMassa Pulita|        Meno del 25%|Utilizzo di prodo...|     In progetto|     In progetto|           1-25%|Nessun Interesse|           1-25%|     In Progetto|Nessun Interesse|Nessun Interesse|In Progetto|  1-50%|  1-50%| 51-75%|In Progetto|In Progetto|  1-50%|In Progetto| 1 - 4|3 - 4|1 evento per anno|\n",
      "|  2|  2|Acquisto molti (m...|No, non ne ero a ...|No, non guardo le...|Uso i sacchetti d...|Riacquisto i prod...|Riacquisto le cas...|2  volte all'anno|   2|Sono a conoscenza...|Non acquisto vest...|Non mi interessa ...|   2|2023-07-05 09:00:00|             Nessuno|   null|Euro 0 (immatrico...|Più di 6 volte a ...|  5|  1|  Meno di 5 minuti| Più di 100 m²| Tra 51 e 75 m²| 50%|            0€|          0€|          0€|             Nessuno|Meno di 1 km|   5| Più di 100 m²|  Circa 25 m²|Presenta un passa...|      2|Superiore al 75%|Sistemi di Contro...|           null|Non possiedo ness...|  3 kWh|Ventilazione Natu...|Superiore al 75%|Sistemi di Contro...|         Solare|         Più del 75%|Luce solare naturale|Nessun Interesse|Nessun Interesse|          26-50%|Nessun Interesse|Nessun Interesse|Nessun Interesse|Nessun Interesse|Nessun Interesse|         No|76-100%|76-100%|76-100%|    76-100%|    76-100%|76-100%|    76-100%| 1 - 4|1 - 2|3 eventi per anno|\n",
      "|  1|  2|Acquisto spesso (...|No, non ne ero a ...|Sì, raramente acq...|Non uso i sacchet...|Riacquisto i prod...|Riacquisto le cas...|                0|   1|Non ero a conosce...|Non acquisto vest...|Non mi interessa ...|   3|2023-07-05 09:00:00|             Nessuno| Diesel|Euro 5 (immatrico...|Più di 6 volte a ...|  1|  1|  Meno di 5 minuti| Più di 100 m²|    Circa 25 m²| 25%|  Tra 31 e 50€|          0€|          0€|               Treno|Meno di 1 km|   5|Tra 51 e 75 m²|  Circa 25 m²|Nessuna delle seg...|Nessuna|    Meno del 25%|                null|           null|Non possiedo ness...|4.5 kWh|Ventilazione Natu...|     Tra 2 e 25%|Sistemi di Contro...|           null|Non possiedo ness...|Ventilazione Natu...|Nessun Interesse|Nessun Interesse|Nessun Interesse|Nessun Interesse|     In Progetto|Nessun Interesse|     In Progetto|Nessun Interesse|      1-50%|  1-50%|  1-50%|  1-50%|      1-50%|      1-50%|  1-50%|      1-50%|     0|    0|          Nessuna|\n",
      "|  2|  1|Mi servo esclusiv...|No, non ne ero a ...|Sì, raramente acq...|Non uso i sacchet...|Riacquisto i prod...|Riacquisto le cas...|2  volte all'anno|   2|Acquisto vestiti ...|Non acquisto vest...|Non mi interessa ...|   3|2023-07-05 06:00:00|Automobile (condu...| Diesel|Euro 6 (immatrico...|Tra 4 e 6 volte a...|  5|  3| Tra 5 e 10 minuti|Tra 51 e 75 m²|  Più di 100 m²|100%|  Tra 31 e 50€|          0€| Più di 100€|Monopattino elett...|Più di 30 km|   1| Più di 100 m²|Più di 100 m²|Nessuna delle seg...|      2|Superiore al 75%|Sistemi di Contro...|           null|Non possiedo ness...|  3 kWh|Ventilazione Natu...|Superiore al 75%|Sistemi di Contro...|         Solare|         Più del 75%|Luce solare naturale|Nessun Interesse|Nessun Interesse|Nessun Interesse|Nessun Interesse|Nessun Interesse|Nessun Interesse|Nessun Interesse|Nessun Interesse|    76-100%|76-100%|76-100%|76-100%|    76-100%|    76-100%|76-100%|    76-100%|5 - 17|1 - 2|2 eventi per anno|\n",
      "|  3|  2|Vorrei servirmi d...|No, non ne ero a ...|Sì, ma hanno un p...|Uso i sacchetti d...|Riacquisto i prod...|Riacquisto le cas...| 1 volta all'anno|   1|Acquisto vestiti ...|Non acquisto vest...|Non mi interessa ...|   2|2023-07-05 08:30:00|Automobile (condu...|Gasolio|Euro 6 (immatrico...|Tra 1 e 3 volte a...|  2|  2| Tra 5 e 10 minuti| Più di 100 m²| Tra 25 e 50 m²| 25%|Tra 101 e 150€|          0€|          0€|             Nessuno|Più di 30 km|   1|   Circa 25 m²|  Circa 25 m²|Presenta un passa...|Nessuna|Superiore al 75%|                null|           null|Non possiedo ness...|  3 kWh|Ventilazione Natu...|    Meno dell'1%|                null|           null|Non possiedo ness...|Ventilazione Natu...|Nessun Interesse|Nessun Interesse|Nessun Interesse|Nessun Interesse|Nessun Interesse|Nessun Interesse|Nessun Interesse|Nessun Interesse|         No|     No|     No|     No|      1-50%|In Progetto|  1-50%|      1-50%|     0|    0|          Nessuna|\n",
      "+---+---+--------------------+--------------------+--------------------+--------------------+--------------------+--------------------+-----------------+----+--------------------+--------------------+--------------------+----+-------------------+--------------------+-------+--------------------+--------------------+---+---+------------------+--------------+---------------+----+--------------+------------+------------+--------------------+------------+----+--------------+-------------+--------------------+-------+----------------+--------------------+---------------+--------------------+-------+--------------------+----------------+--------------------+---------------+--------------------+--------------------+----------------+----------------+----------------+----------------+----------------+----------------+----------------+----------------+-----------+-------+-------+-------+-----------+-----------+-------+-----------+------+-----+-----------------+\n",
      "only showing top 5 rows\n",
      "\n"
     ]
    }
   ],
   "source": [
    "# the csv poll dir\n",
    "poll_dir = \"../data/poll_data.csv\"\n",
    "\n",
    "# load the csv poll as a dataframe\n",
    "df = (\n",
    "    spark.read.format(\"csv\")\n",
    "    # .option(\"encoding\", \"UTF-8\")\n",
    "    .option(\"header\", \"true\")\n",
    "    .option(\"inferSchema\", \"true\")\n",
    "    .load(poll_dir)\n",
    ")\n",
    "\n",
    "# drop unscored columns\n",
    "df = (\n",
    "    df.drop(\"Informazioni cronologiche\")\n",
    "    .drop(\n",
    "        \"Ho letto e accettato l'informativa e confermo inoltre di avere più di 18 anni\"\n",
    "    )\n",
    "    .drop(\"Quanti anni hai?\")\n",
    "    .drop(\"Genere\")\n",
    "    .drop(\"Da quante persone è composto il tuo nucleo familiare?\")\n",
    "    .drop(\"Occupazione\")\n",
    "    .drop(\"Quanto è grande la tua azienda?\")\n",
    "    .drop(\"Da che regione provieni?\")\n",
    "    .drop(\"Provincia di provenienza\")\n",
    "    .drop(\"In che regione lavori/studi?\")\n",
    "    .drop(\"Provincia del luogo di lavoro/studio\")\n",
    "    .drop(\"Invalidità\")\n",
    "    .drop(\"Tipo di residenza\")\n",
    "    .drop(\"Numero di persone con cui convivi\")\n",
    "    .drop(\"Entrate Familiari Mensili Nette\")\n",
    "    .drop(\"Entrate Personali Mensili Nette \")\n",
    ")\n",
    "\n",
    "# load the questions json\n",
    "with open(\"../data/questions.json\", \"r\", encoding=\"utf-8\") as questions_file:\n",
    "    questions = json.load(questions_file)\n",
    "\n",
    "# create a question_text:question_idx map, useful to alias the columns\n",
    "questions_idxs = {questions[q][\"question_text\"]: q for q in questions.keys()}\n",
    "\n",
    "# alias the columns (long column names cause bugs and are hard to use)\n",
    "for k, v in questions_idxs.items():\n",
    "    df = df.withColumnRenamed(k, v)\n",
    "\n",
    "df.show(5)"
   ]
  },
  {
   "cell_type": "code",
   "execution_count": 4,
   "metadata": {},
   "outputs": [],
   "source": [
    "# iterate over the df's columns to create the scores dictionary\n",
    "scores = {}\n",
    "for col in df.columns:\n",
    "    # shortcuts for some useful values\n",
    "    question_type = questions[col][\"question_type\"]\n",
    "    question_score = questions[col][\"question_score\"]\n",
    "    question_answers = questions[col][\"answers\"]\n",
    "\n",
    "    # skip unscored questions\n",
    "    if len(question_answers) == 0:\n",
    "        continue\n",
    "\n",
    "    # collect the Row values for the current column and access its value (index 0)\n",
    "    answers = [str(d[0]) for d in df.select(col).collect()]\n",
    "\n",
    "    # handle score computation differently based on question_type\n",
    "    row_scores = []\n",
    "    if question_type in [\"basic\", \"multivalue\"]:\n",
    "        for a in answers:\n",
    "            row_scores.append(question_answers[a][\"answer_score\"] * question_score)\n",
    "\n",
    "        scores[col] = row_scores\n",
    "\n",
    "    elif question_type == \"comma_separated\":\n",
    "        # todo: implement comma_separated questions handler\n",
    "        scores[col] = [0 for i in range(52)]"
   ]
  },
  {
   "cell_type": "code",
   "execution_count": 8,
   "metadata": {},
   "outputs": [
    {
     "name": "stdout",
     "output_type": "stream",
     "text": [
      "+----+----+-----+----+----+-----+----+----+-----+----+-----+-----+----+-----+---+---+-----+-----+-----+---+---+-----+-----+----+----+----+----+----+----+-----+----+----+-----+----+---+---+---+---+---+---+---+---+---+---+---+---+---+-------+-------+-------+-------+-------+-------+-------+-------+-----+-----+----+\n",
      "| S_1| S_2|  S_3| S_4| S_5|  S_6| S_7| S_8|  S_9|V_10| V_11| V_12|C_13| C_14|m_1|m_2|  m_3|  m_4|  m_5|m_6|m_7|  m_8|  m_9|m_10|m_11|m_12|m_13|m_14|m_15| m_16|m_17|m_18| m_19|m_20|eh1|eh4|eh5|ew1|ew4|ww1|ww2|ww3|ww4|wh1|wh2|wh3|wh4|wastew1|wastew2|wastew3|wastew4|wasteh1|wasteh2|wasteh3|wasteh4| ER_1| ER_2|ER_3|\n",
      "+----+----+-----+----+----+-----+----+----+-----+----+-----+-----+----+-----+---+---+-----+-----+-----+---+---+-----+-----+----+----+----+----+----+----+-----+----+----+-----+----+---+---+---+---+---+---+---+---+---+---+---+---+---+-------+-------+-------+-------+-------+-------+-------+-------+-----+-----+----+\n",
      "|37.5|37.5|  0.0|49.5|99.0|150.0|99.0|99.0| 50.0|37.5|150.0|100.0|49.5| 50.0|  0|  0| 75.0|187.5|250.0|  0|  0|150.0|225.0|   0|   0|   0|   0|   0|   0|  0.0| 0.0| 0.0|  0.0| 0.0|0.0|0.0|0.0|0.0|0.0|0.0|0.0|0.0|0.0|0.0|0.0|0.0|0.0|    0.0|    0.0|    0.0|    0.0|    0.0|    0.0|    0.0|    0.0| 50.0|100.0|25.0|\n",
      "|37.5|37.5|200.0| 0.0| 0.0| 99.0|49.5|49.5|100.0|37.5|100.0| 50.0| 0.0| 50.0|  0|  0|  0.0|250.0|250.0|  0|  0|300.0|150.0|   0|   0|   0|   0|   0|   0|300.0| 0.0| 0.0|100.0|50.0|0.0|0.0|0.0|0.0|0.0|0.0|0.0|0.0|0.0|0.0|0.0|0.0|0.0|    0.0|    0.0|    0.0|    0.0|    0.0|    0.0|    0.0|    0.0| 50.0| 50.0|75.0|\n",
      "| 0.0|37.5|150.0| 0.0|99.0|150.0|49.5|49.5|  0.0| 0.0| 50.0| 50.0| 0.0|100.0|  0|  0|225.0|250.0|  0.0|  0|  0|300.0|  0.0|   0|   0|   0|   0|   0|   0|300.0| 0.0| 0.0|  0.0| 0.0|0.0|0.0|0.0|0.0|0.0|0.0|0.0|0.0|0.0|0.0|0.0|0.0|0.0|    0.0|    0.0|    0.0|    0.0|    0.0|    0.0|    0.0|    0.0|  0.0|  0.0| 0.0|\n",
      "|37.5| 0.0|  0.0| 0.0|99.0|150.0|49.5|49.5|100.0|37.5|  0.0| 50.0| 0.0|100.0|  0|  0|300.0|187.5|250.0|  0|  0|150.0|300.0|   0|   0|   0|   0|   0|   0|  0.0| 0.0| 0.0|  0.0|50.0|0.0|0.0|0.0|0.0|0.0|0.0|0.0|0.0|0.0|0.0|0.0|0.0|0.0|    0.0|    0.0|    0.0|    0.0|    0.0|    0.0|    0.0|    0.0|100.0| 50.0|50.0|\n",
      "|75.0|37.5| 50.0| 0.0|49.5| 99.0|49.5|49.5| 50.0| 0.0|  0.0|  0.0| 0.0| 50.0|  0|  0|300.0|125.0| 62.5|  0|  0|300.0| 75.0|   0|   0|   0|   0|   0|   0|  0.0| 0.0| 0.0| 25.0| 0.0|0.0|0.0|0.0|0.0|0.0|0.0|0.0|0.0|0.0|0.0|0.0|0.0|0.0|    0.0|    0.0|    0.0|    0.0|    0.0|    0.0|    0.0|    0.0|  0.0|  0.0| 0.0|\n",
      "+----+----+-----+----+----+-----+----+----+-----+----+-----+-----+----+-----+---+---+-----+-----+-----+---+---+-----+-----+----+----+----+----+----+----+-----+----+----+-----+----+---+---+---+---+---+---+---+---+---+---+---+---+---+-------+-------+-------+-------+-------+-------+-------+-------+-----+-----+----+\n",
      "only showing top 5 rows\n",
      "\n"
     ]
    }
   ],
   "source": [
    "# create the scores dataframe from the scores dictionary\n",
    "df_scores = spark.createDataFrame(pd.DataFrame(scores))\n",
    "df_scores.show(5)"
   ]
  },
  {
   "cell_type": "code",
   "execution_count": 6,
   "metadata": {},
   "outputs": [],
   "source": [
    "# the indexes dictionary, which will be used to compute the indexes dataframe\n",
    "indexes_cols = {}"
   ]
  },
  {
   "attachments": {},
   "cell_type": "markdown",
   "metadata": {},
   "source": [
    "## Purchases indexes"
   ]
  },
  {
   "cell_type": "code",
   "execution_count": 7,
   "metadata": {},
   "outputs": [],
   "source": [
    "df_s = df_scores.select([f\"S_{d}\" for d in range(1, 10)]).collect()\n",
    "\n",
    "i_S_col = []\n",
    "for s in df_s:\n",
    "    i_S_col.append(sum([val for val in s])/1450)\n",
    "\n",
    "indexes_cols['i_S'] = i_S_col"
   ]
  },
  {
   "attachments": {},
   "cell_type": "markdown",
   "metadata": {},
   "source": [
    "## Mobility indexes"
   ]
  },
  {
   "cell_type": "code",
   "execution_count": null,
   "metadata": {},
   "outputs": [],
   "source": []
  },
  {
   "attachments": {},
   "cell_type": "markdown",
   "metadata": {},
   "source": [
    "## Energy indexes"
   ]
  },
  {
   "cell_type": "code",
   "execution_count": null,
   "metadata": {},
   "outputs": [],
   "source": []
  }
 ],
 "metadata": {
  "kernelspec": {
   "display_name": "Python 3",
   "language": "python",
   "name": "python3"
  },
  "language_info": {
   "codemirror_mode": {
    "name": "ipython",
    "version": 3
   },
   "file_extension": ".py",
   "mimetype": "text/x-python",
   "name": "python",
   "nbconvert_exporter": "python",
   "pygments_lexer": "ipython3",
   "version": "3.10.8"
  },
  "orig_nbformat": 4
 },
 "nbformat": 4,
 "nbformat_minor": 2
}
