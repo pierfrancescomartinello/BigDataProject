{
 "cells": [
  {
   "cell_type": "code",
   "execution_count": 1,
   "metadata": {},
   "outputs": [],
   "source": [
    "from pyspark.sql import SparkSession\n",
    "import os \n",
    "import sys \n",
    "import json \n",
    "\n",
    "os.environ['PYSPARK_DRIVER_PYTHON_OPTS'] = \"notebook\"\n",
    "os.environ['PYSPARK_DRIVER_PYTHON'] = sys.executable\n",
    "os.environ['PYSPARK_PYTHON'] = sys.executable"
   ]
  },
  {
   "cell_type": "code",
   "execution_count": 2,
   "metadata": {},
   "outputs": [
    {
     "data": {
      "text/html": [
       "\n",
       "            <div>\n",
       "                <p><b>SparkSession - in-memory</b></p>\n",
       "                \n",
       "        <div>\n",
       "            <p><b>SparkContext</b></p>\n",
       "\n",
       "            <p><a href=\"http://host.docker.internal:4040\">Spark UI</a></p>\n",
       "\n",
       "            <dl>\n",
       "              <dt>Version</dt>\n",
       "                <dd><code>v3.4.0</code></dd>\n",
       "              <dt>Master</dt>\n",
       "                <dd><code>local[*]</code></dd>\n",
       "              <dt>AppName</dt>\n",
       "                <dd><code>test</code></dd>\n",
       "            </dl>\n",
       "        </div>\n",
       "        \n",
       "            </div>\n",
       "        "
      ],
      "text/plain": [
       "<pyspark.sql.session.SparkSession at 0x23eb2e54670>"
      ]
     },
     "execution_count": 2,
     "metadata": {},
     "output_type": "execute_result"
    }
   ],
   "source": [
    "spark = (\n",
    "    SparkSession\n",
    "        .builder\n",
    "        .appName('test')\n",
    "        .getOrCreate()\n",
    "    )\n",
    "\n",
    "spark"
   ]
  },
  {
   "cell_type": "code",
   "execution_count": 3,
   "metadata": {},
   "outputs": [
    {
     "name": "stdout",
     "output_type": "stream",
     "text": [
      "+---+---+--------------------+--------------------+--------------------+--------------------+--------------------+--------------------+-----------------+----+--------------------+--------------------+--------------------+----+-------------------+--------------------+-------+--------------------+--------------------+---+---+------------------+--------------+---------------+----+--------------+------------+------------+--------------------+------------+----+--------------+-------------+--------------------+-------+----------------+--------------------+---------------+--------------------+-------+--------------------+----------------+--------------------+---------------+--------------------+--------------------+----------------+----------------+----------------+----------------+----------------+----------------+----------------+----------------+-----------+-------+-------+-------+-----------+-----------+-------+-----------+------+-----+-----------------+\n",
      "|S_1|S_2|                 S_3|                 S_4|                 S_5|                 S_6|                 S_7|                 S_8|              S_9|V_10|                V_11|                V_12|                C_13|C_14|                m_0|                 m_1|    m_2|                 m_3|                 m_4|m_5|m_6|               m_7|           m_8|            m_9|m_10|          m_11|        m_12|        m_13|                m_14|        m_15|m_16|          m_17|         m_18|                m_19|   m_20|             eh1|                 eh2|            eh3|                 eh4|    eh5|                 eh6|             ew1|                 ew2|            ew3|                 ew4|                 ew5|             ww1|             ww2|             ww3|             ww4|             wh1|             wh2|             wh3|             wh4|    wastew1|wastew2|wastew3|wastew4|    wasteh1|    wasteh2|wasteh3|    wasteh4|  ER_1| ER_2|             ER_3|\n",
      "+---+---+--------------------+--------------------+--------------------+--------------------+--------------------+--------------------+-----------------+----+--------------------+--------------------+--------------------+----+-------------------+--------------------+-------+--------------------+--------------------+---+---+------------------+--------------+---------------+----+--------------+------------+------------+--------------------+------------+----+--------------+-------------+--------------------+-------+----------------+--------------------+---------------+--------------------+-------+--------------------+----------------+--------------------+---------------+--------------------+--------------------+----------------+----------------+----------------+----------------+----------------+----------------+----------------+----------------+-----------+-------+-------+-------+-----------+-----------+-------+-----------+------+-----+-----------------+\n",
      "|  2|  2|Mi servo esclusiv...|No, li conosco ma...|Sì, raramente acq...|Non uso i sacchet...|Riacquisto i prod...|Riacquisto le cas...| 1 volta all'anno|   2|A volte acquisto ...|Non acquisto vest...|Sono interessato ...|   2|2023-07-04 08:00:00|Automobile (condu...| Diesel|Euro 4 (immatrico...|Tra 4 e 6 volte a...|  5|  3|Tra 11 e 15 minuti|Tra 51 e 75 m²|Tra 76 e 100 m²| 25%|  Tra 31 e 50€|Tra 31 e 50€|Tra 11 e 30€|             Nessuno|Tra 1 e 3 km|   1|   Circa 25 m²|  Circa 25 m²|Nessuna delle seg...|Nessuna|    Meno del 25%|Sistemi di Contro...|BioMassa Pulita|       Meno del 25 %|  3 kWh|Ventilazione Natu...|     Tra 2 e 25%|Sistemi di Contro...|BioMassa Pulita|        Meno del 25%|Utilizzo di prodo...|     In progetto|     In progetto|           1-25%|Nessun Interesse|           1-25%|     In Progetto|Nessun Interesse|Nessun Interesse|In Progetto|  1-50%|  1-50%| 51-75%|In Progetto|In Progetto|  1-50%|In Progetto| 1 - 4|3 - 4|1 evento per anno|\n",
      "|  2|  2|Acquisto molti (m...|No, non ne ero a ...|No, non guardo le...|Uso i sacchetti d...|Riacquisto i prod...|Riacquisto le cas...|2  volte all'anno|   2|Sono a conoscenza...|Non acquisto vest...|Non mi interessa ...|   2|2023-07-04 09:00:00|             Nessuno|   null|Euro 0 (immatrico...|Più di 6 volte a ...|  5|  1|  Meno di 5 minuti| Più di 100 m²| Tra 51 e 75 m²| 50%|            0€|          0€|          0€|             Nessuno|Meno di 1 km|   5| Più di 100 m²|  Circa 25 m²|Presenta un passa...|      2|Superiore al 75%|Sistemi di Contro...|           null|Non possiedo ness...|  3 kWh|Ventilazione Natu...|Superiore al 75%|Sistemi di Contro...|         Solare|         Più del 75%|Luce solare naturale|Nessun Interesse|Nessun Interesse|          26-50%|Nessun Interesse|Nessun Interesse|Nessun Interesse|Nessun Interesse|Nessun Interesse|         No|76-100%|76-100%|76-100%|    76-100%|    76-100%|76-100%|    76-100%| 1 - 4|1 - 2|3 eventi per anno|\n",
      "|  1|  2|Acquisto spesso (...|No, non ne ero a ...|Sì, raramente acq...|Non uso i sacchet...|Riacquisto i prod...|Riacquisto le cas...|                0|   1|Non ero a conosce...|Non acquisto vest...|Non mi interessa ...|   3|2023-07-04 09:00:00|             Nessuno| Diesel|Euro 5 (immatrico...|Più di 6 volte a ...|  1|  1|  Meno di 5 minuti| Più di 100 m²|    Circa 25 m²| 25%|  Tra 31 e 50€|          0€|          0€|               Treno|Meno di 1 km|   5|Tra 51 e 75 m²|  Circa 25 m²|Nessuna delle seg...|Nessuna|    Meno del 25%|                null|           null|Non possiedo ness...|4.5 kWh|Ventilazione Natu...|     Tra 2 e 25%|Sistemi di Contro...|           null|Non possiedo ness...|Ventilazione Natu...|Nessun Interesse|Nessun Interesse|Nessun Interesse|Nessun Interesse|     In Progetto|Nessun Interesse|     In Progetto|Nessun Interesse|      1-50%|  1-50%|  1-50%|  1-50%|      1-50%|      1-50%|  1-50%|      1-50%|     0|    0|          Nessuna|\n",
      "|  2|  1|Mi servo esclusiv...|No, non ne ero a ...|Sì, raramente acq...|Non uso i sacchet...|Riacquisto i prod...|Riacquisto le cas...|2  volte all'anno|   2|Acquisto vestiti ...|Non acquisto vest...|Non mi interessa ...|   3|2023-07-04 06:00:00|Automobile (condu...| Diesel|Euro 6 (immatrico...|Tra 4 e 6 volte a...|  5|  3| Tra 5 e 10 minuti|Tra 51 e 75 m²|  Più di 100 m²|100%|  Tra 31 e 50€|          0€| Più di 100€|Monopattino elett...|Più di 30 km|   1| Più di 100 m²|Più di 100 m²|Nessuna delle seg...|      2|Superiore al 75%|Sistemi di Contro...|           null|Non possiedo ness...|  3 kWh|Ventilazione Natu...|Superiore al 75%|Sistemi di Contro...|         Solare|         Più del 75%|Luce solare naturale|Nessun Interesse|Nessun Interesse|Nessun Interesse|Nessun Interesse|Nessun Interesse|Nessun Interesse|Nessun Interesse|Nessun Interesse|    76-100%|76-100%|76-100%|76-100%|    76-100%|    76-100%|76-100%|    76-100%|5 - 17|1 - 2|2 eventi per anno|\n",
      "|  3|  2|Vorrei servirmi d...|No, non ne ero a ...|Sì, ma hanno un p...|Uso i sacchetti d...|Riacquisto i prod...|Riacquisto le cas...| 1 volta all'anno|   1|Acquisto vestiti ...|Non acquisto vest...|Non mi interessa ...|   2|2023-07-04 08:30:00|Automobile (condu...|Gasolio|Euro 6 (immatrico...|Tra 1 e 3 volte a...|  2|  2| Tra 5 e 10 minuti| Più di 100 m²| Tra 25 e 50 m²| 25%|Tra 101 e 150€|          0€|          0€|             Nessuno|Più di 30 km|   1|   Circa 25 m²|  Circa 25 m²|Presenta un passa...|Nessuna|Superiore al 75%|                null|           null|Non possiedo ness...|  3 kWh|Ventilazione Natu...|    Meno dell'1%|                null|           null|Non possiedo ness...|Ventilazione Natu...|Nessun Interesse|Nessun Interesse|Nessun Interesse|Nessun Interesse|Nessun Interesse|Nessun Interesse|Nessun Interesse|Nessun Interesse|         No|     No|     No|     No|      1-50%|In Progetto|  1-50%|      1-50%|     0|    0|          Nessuna|\n",
      "+---+---+--------------------+--------------------+--------------------+--------------------+--------------------+--------------------+-----------------+----+--------------------+--------------------+--------------------+----+-------------------+--------------------+-------+--------------------+--------------------+---+---+------------------+--------------+---------------+----+--------------+------------+------------+--------------------+------------+----+--------------+-------------+--------------------+-------+----------------+--------------------+---------------+--------------------+-------+--------------------+----------------+--------------------+---------------+--------------------+--------------------+----------------+----------------+----------------+----------------+----------------+----------------+----------------+----------------+-----------+-------+-------+-------+-----------+-----------+-------+-----------+------+-----+-----------------+\n",
      "only showing top 5 rows\n",
      "\n"
     ]
    }
   ],
   "source": [
    "poll_dir = \"../data/poll_data.csv\"\n",
    "\n",
    "df = (\n",
    "    spark.read.format(\"csv\")\n",
    "    # .option(\"encoding\", \"UTF-8\")\n",
    "    .option(\"header\", \"true\")\n",
    "    .option(\"inferSchema\", \"true\")\n",
    "    .load(poll_dir)\n",
    ")\n",
    "\n",
    "df = (\n",
    "    df.drop(\"Informazioni cronologiche\")\n",
    "    .drop(\n",
    "        \"Ho letto e accettato l'informativa e confermo inoltre di avere più di 18 anni\"\n",
    "    )\n",
    "    .drop(\"Quanti anni hai?\")\n",
    "    .drop(\"Genere\")\n",
    "    .drop(\"Da quante persone è composto il tuo nucleo familiare?\")\n",
    "    .drop(\"Occupazione\")\n",
    "    .drop(\"Quanto è grande la tua azienda?\")\n",
    "    .drop(\"Da che regione provieni?\")\n",
    "    .drop(\"Provincia di provenienza\")\n",
    "    .drop(\"In che regione lavori/studi?\")\n",
    "    .drop(\"Provincia del luogo di lavoro/studio\")\n",
    "    .drop(\"Invalidità\")\n",
    "    .drop(\"Tipo di residenza\")\n",
    "    .drop(\"Numero di persone con cui convivi\")\n",
    "    .drop(\"Entrate Familiari Mensili Nette\")\n",
    "    .drop(\"Entrate Personali Mensili Nette \")\n",
    ")\n",
    "\n",
    "with open(\"../data/questions_ans_no_idxs.json\", \"r\", encoding=\"utf-8\") as questions_file:\n",
    "    questions = json.load(questions_file)\n",
    "\n",
    "questions_idxs = {questions[q][\"question_text\"]: q for q in questions.keys()}\n",
    "\n",
    "for k, v in questions_idxs.items():\n",
    "    df = df.withColumnRenamed(k, v)\n",
    "\n",
    "df.show(5)"
   ]
  },
  {
   "cell_type": "code",
   "execution_count": 14,
   "metadata": {},
   "outputs": [],
   "source": [
    "# print(questions_idxs)\n",
    "\n",
    "scores = {}\n",
    "for col in df.columns:\n",
    "    question_text = questions[col][\"question_text\"]\n",
    "    question_type = questions[col][\"question_type\"]\n",
    "    question_score = questions[col][\"question_score\"]\n",
    "    question_answers = questions[col][\"answers\"]\n",
    "\n",
    "    # skip unscored questions\n",
    "    if len(question_answers) == 0:\n",
    "        continue\n",
    "\n",
    "    # print(\"question: \" + str(question_text))\n",
    "    # print(\"question_type: \" + str(question_type))\n",
    "    # print(\"question_answers: \" + str(question_answers))\n",
    "    # print(\"question_score: \" + str(question_score))\n",
    "\n",
    "    answers = [str(d[0]) for d in df.select(col).collect()]\n",
    "    # print(answers)\n",
    "\n",
    "    row_scores = []\n",
    "    if question_type in [\"basic\", \"multivalue\"]:\n",
    "        for a in answers:\n",
    "            row_scores.append(question_answers[a][\"answer_score\"] * question_score)\n",
    "\n",
    "        # print(\"row_scores: \" + str(row_scores))\n",
    "\n",
    "        # col_scores = [answers[data[i][0]][\"answer_score\"] for i in range(len(data))]\n",
    "        # scores.append(col_scores)\n",
    "        scores[col] = row_scores\n",
    "\n",
    "    elif question_type == \"comma_separated\":\n",
    "        # print('implement multivalue questions handler')\n",
    "        # ! temp\n",
    "        scores[col] = [0 for i in range(52)]\n",
    "        \n",
    "\n"
   ]
  },
  {
   "cell_type": "code",
   "execution_count": 17,
   "metadata": {},
   "outputs": [
    {
     "name": "stdout",
     "output_type": "stream",
     "text": [
      "52\n",
      "52\n",
      "52\n",
      "52\n",
      "52\n",
      "52\n",
      "52\n",
      "52\n",
      "52\n",
      "52\n",
      "52\n",
      "52\n",
      "52\n",
      "52\n",
      "52\n",
      "52\n",
      "52\n",
      "52\n",
      "52\n",
      "52\n",
      "52\n",
      "52\n",
      "52\n",
      "52\n",
      "52\n",
      "52\n",
      "52\n",
      "1\n",
      "52\n",
      "52\n",
      "52\n",
      "52\n",
      "52\n",
      "52\n",
      "52\n",
      "52\n",
      "52\n",
      "52\n",
      "52\n",
      "52\n",
      "52\n",
      "52\n",
      "52\n",
      "52\n",
      "52\n",
      "52\n",
      "52\n",
      "52\n",
      "52\n",
      "52\n",
      "52\n",
      "52\n",
      "52\n",
      "52\n",
      "52\n",
      "52\n",
      "52\n",
      "52\n"
     ]
    }
   ],
   "source": [
    "for v in scores.values():\n",
    "    print(len(v))"
   ]
  },
  {
   "cell_type": "code",
   "execution_count": 15,
   "metadata": {},
   "outputs": [
    {
     "ename": "ValueError",
     "evalue": "All arrays must be of the same length",
     "output_type": "error",
     "traceback": [
      "\u001b[1;31m---------------------------------------------------------------------------\u001b[0m",
      "\u001b[1;31mValueError\u001b[0m                                Traceback (most recent call last)",
      "Cell \u001b[1;32mIn[15], line 3\u001b[0m\n\u001b[0;32m      1\u001b[0m \u001b[39mimport\u001b[39;00m \u001b[39mpandas\u001b[39;00m \u001b[39mas\u001b[39;00m \u001b[39mpd\u001b[39;00m\n\u001b[1;32m----> 3\u001b[0m pd\u001b[39m.\u001b[39;49mDataFrame(scores)\n",
      "File \u001b[1;32mc:\\Users\\Impasse\\AppData\\Local\\Programs\\Python\\Python310\\lib\\site-packages\\pandas\\core\\frame.py:663\u001b[0m, in \u001b[0;36mDataFrame.__init__\u001b[1;34m(self, data, index, columns, dtype, copy)\u001b[0m\n\u001b[0;32m    657\u001b[0m     mgr \u001b[39m=\u001b[39m \u001b[39mself\u001b[39m\u001b[39m.\u001b[39m_init_mgr(\n\u001b[0;32m    658\u001b[0m         data, axes\u001b[39m=\u001b[39m{\u001b[39m\"\u001b[39m\u001b[39mindex\u001b[39m\u001b[39m\"\u001b[39m: index, \u001b[39m\"\u001b[39m\u001b[39mcolumns\u001b[39m\u001b[39m\"\u001b[39m: columns}, dtype\u001b[39m=\u001b[39mdtype, copy\u001b[39m=\u001b[39mcopy\n\u001b[0;32m    659\u001b[0m     )\n\u001b[0;32m    661\u001b[0m \u001b[39melif\u001b[39;00m \u001b[39misinstance\u001b[39m(data, \u001b[39mdict\u001b[39m):\n\u001b[0;32m    662\u001b[0m     \u001b[39m# GH#38939 de facto copy defaults to False only in non-dict cases\u001b[39;00m\n\u001b[1;32m--> 663\u001b[0m     mgr \u001b[39m=\u001b[39m dict_to_mgr(data, index, columns, dtype\u001b[39m=\u001b[39;49mdtype, copy\u001b[39m=\u001b[39;49mcopy, typ\u001b[39m=\u001b[39;49mmanager)\n\u001b[0;32m    664\u001b[0m \u001b[39melif\u001b[39;00m \u001b[39misinstance\u001b[39m(data, ma\u001b[39m.\u001b[39mMaskedArray):\n\u001b[0;32m    665\u001b[0m     \u001b[39mimport\u001b[39;00m \u001b[39mnumpy\u001b[39;00m\u001b[39m.\u001b[39;00m\u001b[39mma\u001b[39;00m\u001b[39m.\u001b[39;00m\u001b[39mmrecords\u001b[39;00m \u001b[39mas\u001b[39;00m \u001b[39mmrecords\u001b[39;00m\n",
      "File \u001b[1;32mc:\\Users\\Impasse\\AppData\\Local\\Programs\\Python\\Python310\\lib\\site-packages\\pandas\\core\\internals\\construction.py:493\u001b[0m, in \u001b[0;36mdict_to_mgr\u001b[1;34m(data, index, columns, dtype, typ, copy)\u001b[0m\n\u001b[0;32m    489\u001b[0m     \u001b[39melse\u001b[39;00m:\n\u001b[0;32m    490\u001b[0m         \u001b[39m# dtype check to exclude e.g. range objects, scalars\u001b[39;00m\n\u001b[0;32m    491\u001b[0m         arrays \u001b[39m=\u001b[39m [x\u001b[39m.\u001b[39mcopy() \u001b[39mif\u001b[39;00m \u001b[39mhasattr\u001b[39m(x, \u001b[39m\"\u001b[39m\u001b[39mdtype\u001b[39m\u001b[39m\"\u001b[39m) \u001b[39melse\u001b[39;00m x \u001b[39mfor\u001b[39;00m x \u001b[39min\u001b[39;00m arrays]\n\u001b[1;32m--> 493\u001b[0m \u001b[39mreturn\u001b[39;00m arrays_to_mgr(arrays, columns, index, dtype\u001b[39m=\u001b[39;49mdtype, typ\u001b[39m=\u001b[39;49mtyp, consolidate\u001b[39m=\u001b[39;49mcopy)\n",
      "File \u001b[1;32mc:\\Users\\Impasse\\AppData\\Local\\Programs\\Python\\Python310\\lib\\site-packages\\pandas\\core\\internals\\construction.py:118\u001b[0m, in \u001b[0;36marrays_to_mgr\u001b[1;34m(arrays, columns, index, dtype, verify_integrity, typ, consolidate)\u001b[0m\n\u001b[0;32m    115\u001b[0m \u001b[39mif\u001b[39;00m verify_integrity:\n\u001b[0;32m    116\u001b[0m     \u001b[39m# figure out the index, if necessary\u001b[39;00m\n\u001b[0;32m    117\u001b[0m     \u001b[39mif\u001b[39;00m index \u001b[39mis\u001b[39;00m \u001b[39mNone\u001b[39;00m:\n\u001b[1;32m--> 118\u001b[0m         index \u001b[39m=\u001b[39m _extract_index(arrays)\n\u001b[0;32m    119\u001b[0m     \u001b[39melse\u001b[39;00m:\n\u001b[0;32m    120\u001b[0m         index \u001b[39m=\u001b[39m ensure_index(index)\n",
      "File \u001b[1;32mc:\\Users\\Impasse\\AppData\\Local\\Programs\\Python\\Python310\\lib\\site-packages\\pandas\\core\\internals\\construction.py:666\u001b[0m, in \u001b[0;36m_extract_index\u001b[1;34m(data)\u001b[0m\n\u001b[0;32m    664\u001b[0m lengths \u001b[39m=\u001b[39m \u001b[39mlist\u001b[39m(\u001b[39mset\u001b[39m(raw_lengths))\n\u001b[0;32m    665\u001b[0m \u001b[39mif\u001b[39;00m \u001b[39mlen\u001b[39m(lengths) \u001b[39m>\u001b[39m \u001b[39m1\u001b[39m:\n\u001b[1;32m--> 666\u001b[0m     \u001b[39mraise\u001b[39;00m \u001b[39mValueError\u001b[39;00m(\u001b[39m\"\u001b[39m\u001b[39mAll arrays must be of the same length\u001b[39m\u001b[39m\"\u001b[39m)\n\u001b[0;32m    668\u001b[0m \u001b[39mif\u001b[39;00m have_dicts:\n\u001b[0;32m    669\u001b[0m     \u001b[39mraise\u001b[39;00m \u001b[39mValueError\u001b[39;00m(\n\u001b[0;32m    670\u001b[0m         \u001b[39m\"\u001b[39m\u001b[39mMixing dicts with non-Series may lead to ambiguous ordering.\u001b[39m\u001b[39m\"\u001b[39m\n\u001b[0;32m    671\u001b[0m     )\n",
      "\u001b[1;31mValueError\u001b[0m: All arrays must be of the same length"
     ]
    }
   ],
   "source": [
    "import pandas as pd\n",
    "\n",
    "pd.DataFrame(scores)"
   ]
  }
 ],
 "metadata": {
  "kernelspec": {
   "display_name": "Python 3",
   "language": "python",
   "name": "python3"
  },
  "language_info": {
   "codemirror_mode": {
    "name": "ipython",
    "version": 3
   },
   "file_extension": ".py",
   "mimetype": "text/x-python",
   "name": "python",
   "nbconvert_exporter": "python",
   "pygments_lexer": "ipython3",
   "version": "3.10.8"
  },
  "orig_nbformat": 4
 },
 "nbformat": 4,
 "nbformat_minor": 2
}
